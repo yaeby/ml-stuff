{
 "cells": [
  {
   "cell_type": "code",
   "execution_count": null,
   "id": "00baf006",
   "metadata": {},
   "outputs": [
    {
     "ename": "ModuleNotFoundError",
     "evalue": "No module named 'pandas'",
     "output_type": "error",
     "traceback": [
      "\u001b[31m---------------------------------------------------------------------------\u001b[39m",
      "\u001b[31mModuleNotFoundError\u001b[39m                       Traceback (most recent call last)",
      "\u001b[36mCell\u001b[39m\u001b[36m \u001b[39m\u001b[32mIn[1]\u001b[39m\u001b[32m, line 1\u001b[39m\n\u001b[32m----> \u001b[39m\u001b[32m1\u001b[39m \u001b[38;5;28;01mimport\u001b[39;00m\u001b[38;5;250m \u001b[39m\u001b[34;01mpandas\u001b[39;00m\u001b[38;5;250m \u001b[39m\u001b[38;5;28;01mas\u001b[39;00m\u001b[38;5;250m \u001b[39m\u001b[34;01mpd\u001b[39;00m\n\u001b[32m      2\u001b[39m \u001b[38;5;28;01mimport\u001b[39;00m\u001b[38;5;250m \u001b[39m\u001b[34;01mnumpy\u001b[39;00m\u001b[38;5;250m \u001b[39m\u001b[38;5;28;01mas\u001b[39;00m\u001b[38;5;250m \u001b[39m\u001b[34;01mnp\u001b[39;00m\n",
      "\u001b[31mModuleNotFoundError\u001b[39m: No module named 'pandas'"
     ]
    }
   ],
   "source": [
    "import pandas as pd\n",
    "import numpy as np\n",
    "import matplotlib.pyplot as plt\n",
    "import seaborn as sns\n",
    "from sklearn.model_selection import train_test_split\n",
    "from sklearn.impute import SimpleImputer\n",
    "from sklearn.linear_model import LogisticRegression\n",
    "from sklearn.naive_bayes import GaussianNB\n",
    "from sklearn.tree import DecisionTreeClassifier\n",
    "from sklearn.ensemble import RandomForestClassifier\n",
    "from sklearn.metrics import accuracy_score\n",
    "from sklearn.preprocessing import StandardScaler"
   ]
  },
  {
   "cell_type": "markdown",
   "id": "9d867f8e",
   "metadata": {},
   "source": [
    "# Missing Values Imputation\n",
    "\n",
    "This notebook explores various missing value imputation techniques and their impact on model performance."
   ]
  },
  {
   "cell_type": "code",
   "execution_count": null,
   "id": "e65bdc6d",
   "metadata": {},
   "outputs": [],
   "source": [
    "df = pd.read_csv('HousingData.csv') "
   ]
  },
  {
   "cell_type": "code",
   "execution_count": null,
   "id": "98357e18",
   "metadata": {},
   "outputs": [],
   "source": [
    "df.info()"
   ]
  },
  {
   "cell_type": "code",
   "execution_count": null,
   "id": "f3489f88",
   "metadata": {},
   "outputs": [],
   "source": [
    "missing_values = df.isnull().sum().sort_values(ascending=False)\n",
    "missing_percent = (df.isnull().sum() / df.isnull().count() * 100).sort_values(ascending=False)\n",
    "missing_data = pd.concat([missing_values, missing_percent], axis=1, keys=['Total', 'Percent'])\n",
    "\n",
    "print(missing_data[missing_data['Total'] > 0])\n",
    "\n",
    "plt.figure(figsize=(12, 8))\n",
    "ax = missing_values.plot(kind='bar', figsize=(12, 8))\n",
    "plt.title('Number of Missing Values by Column', fontsize=16)\n",
    "plt.xlabel('Columns', fontsize=14)\n",
    "plt.ylabel('Count', fontsize=14)\n",
    "plt.xticks(rotation=45, ha='right')\n",
    "plt.tight_layout()\n",
    "plt.show()"
   ]
  },
  {
   "cell_type": "code",
   "execution_count": null,
   "id": "fcf21a70",
   "metadata": {},
   "outputs": [],
   "source": [
    "df['target'] = (df['MEDV'] > 25).astype(int)\n",
    "\n",
    "X = df.drop(['MEDV', 'target'], axis=1)\n",
    "y = df['target']\n",
    "\n",
    "X_train, X_test, y_train, y_test = train_test_split(X, y, test_size=0.3, random_state=42)\n",
    "\n",
    "print(f\"Training set shape: {X_train.shape}\")\n",
    "print(f\"Testing set shape: {X_test.shape}\")"
   ]
  },
  {
   "cell_type": "markdown",
   "id": "a620bf89",
   "metadata": {},
   "source": [
    "## Creating Imputers\n",
    "\n",
    "We'll create various imputers from scikit-learn and reparo libraries:"
   ]
  },
  {
   "cell_type": "code",
   "execution_count": null,
   "id": "b19f0059",
   "metadata": {},
   "outputs": [],
   "source": [
    "imputer_mean = SimpleImputer(strategy='mean')\n",
    "imputer_median = SimpleImputer(strategy='median')\n",
    "imputer_most_frequent = SimpleImputer(strategy='most_frequent')\n",
    "imputer_constant = SimpleImputer(strategy='constant', fill_value=0)\n",
    "\n",
    "from reparo.imputers import CDI, FRNNI, HotDeckImputation, KNNImputer, PMM, MICE, SICE\n",
    "\n",
    "imputer_cdi = CDI()\n",
    "imputer_frnni = FRNNI()\n",
    "imputer_hotdeck = HotDeckImputation()\n",
    "imputer_knn = KNNImputer(n_neighbors=5)\n",
    "imputer_pmm = PMM()\n",
    "imputer_sice = SICE()\n",
    "imputer_mice = MICE()\n",
    "\n",
    "imputers = {\n",
    "    'Mean': imputer_mean,\n",
    "    'Median': imputer_median,\n",
    "    'Most_Frequent': imputer_most_frequent,\n",
    "    'Constant': imputer_constant,\n",
    "    'CDI': imputer_cdi,\n",
    "    'FRNNI': imputer_frnni,\n",
    "    'HotDeck': imputer_hotdeck,\n",
    "    'KNN': imputer_knn,\n",
    "    'PMM': imputer_pmm,\n",
    "    'SICE': imputer_sice,\n",
    "    'MICE': imputer_mice\n",
    "}"
   ]
  },
  {
   "cell_type": "markdown",
   "id": "f18715f8",
   "metadata": {},
   "source": [
    "## Training Imputers and Filling Missing Values\n",
    "\n",
    "We'll train each imputer on the training data and then apply them to both training and testing data."
   ]
  },
  {
   "cell_type": "code",
   "execution_count": null,
   "id": "205346a5",
   "metadata": {},
   "outputs": [],
   "source": [
    "imputed_data = {}\n",
    "\n",
    "def apply_sklearn_imputer(imputer_name, imputer):\n",
    "    imputer.fit(X_train)\n",
    "    X_train_imputed = pd.DataFrame(imputer.transform(X_train), columns=X_train.columns, index=X_train.index)\n",
    "    X_test_imputed = pd.DataFrame(imputer.transform(X_test), columns=X_test.columns, index=X_test.index)\n",
    "    return X_train_imputed, X_test_imputed\n",
    "\n",
    "def apply_reparo_imputer(imputer_name, imputer):\n",
    "    imputer.fit(X_train)\n",
    "    X_train_imputed = imputer.transform(X_train)\n",
    "    X_test_imputed = imputer.transform(X_test)\n",
    "    return X_train_imputed, X_test_imputed\n",
    "\n",
    "for name, imputer in imputers.items():\n",
    "    try:\n",
    "        print(f\"Applying {name} imputer...\")\n",
    "        if name in ['Mean', 'Median', 'Most_Frequent', 'Constant']:\n",
    "            X_train_imputed, X_test_imputed = apply_sklearn_imputer(name, imputer)\n",
    "        else:\n",
    "            X_train_imputed, X_test_imputed = apply_reparo_imputer(name, imputer)\n",
    "        \n",
    "        imputed_data[name] = {\n",
    "            'train': X_train_imputed,\n",
    "            'test': X_test_imputed\n",
    "        }\n",
    "        print(f\"Successfully applied {name} imputer\")\n",
    "    except Exception as e:\n",
    "        print(f\"Error applying {name} imputer: {e}\")"
   ]
  },
  {
   "cell_type": "markdown",
   "id": "adf90356",
   "metadata": {},
   "source": [
    "## Model Training and Evaluation\n",
    "\n",
    "Now we'll train different models on each imputed dataset and evaluate their performance."
   ]
  },
  {
   "cell_type": "code",
   "execution_count": null,
   "id": "e6e9e8cd",
   "metadata": {},
   "outputs": [],
   "source": [
    "# Create models\n",
    "models = {\n",
    "    'Logistic Regression': LogisticRegression(max_iter=1000, random_state=42),\n",
    "    'Gaussian Naive Bayes': GaussianNB(),\n",
    "    'Decision Tree': DecisionTreeClassifier(random_state=42),\n",
    "    'Random Forest': RandomForestClassifier(random_state=42)\n",
    "}\n",
    "\n",
    "results = {}\n",
    "\n",
    "scaler = StandardScaler()\n",
    "\n",
    "for imputer_name, data in imputed_data.items():\n",
    "    X_train_imputed = data['train']\n",
    "    X_test_imputed = data['test']\n",
    "    \n",
    "    X_train_scaled = scaler.fit_transform(X_train_imputed)\n",
    "    X_test_scaled = scaler.transform(X_test_imputed)\n",
    "    \n",
    "    results[imputer_name] = {}\n",
    "    \n",
    "    for model_name, model in models.items():\n",
    "        try:\n",
    "            model.fit(X_train_scaled, y_train)\n",
    "            \n",
    "            y_pred = model.predict(X_test_scaled)\n",
    "            \n",
    "            accuracy = accuracy_score(y_test, y_pred)\n",
    "            \n",
    "            results[imputer_name][model_name] = accuracy\n",
    "            \n",
    "            print(f\"Imputer: {imputer_name}, Model: {model_name}, Accuracy: {accuracy:.4f}\")\n",
    "        except Exception as e:\n",
    "            print(f\"Error with {imputer_name} and {model_name}: {e}\")\n",
    "            results[imputer_name][model_name] = None"
   ]
  },
  {
   "cell_type": "markdown",
   "id": "5b0952bb",
   "metadata": {},
   "source": [
    "## Results Summary\n",
    "\n",
    "Let's create a summary table to compare the performance of different imputation methods and models."
   ]
  },
  {
   "cell_type": "code",
   "execution_count": null,
   "id": "68e4f405",
   "metadata": {},
   "outputs": [],
   "source": [
    "result_rows = []\n",
    "for imputer_name, model_results in results.items():\n",
    "    for model_name, accuracy in model_results.items():\n",
    "        if accuracy is not None:\n",
    "            result_rows.append({\n",
    "                'Imputation Algorithm': imputer_name,\n",
    "                'Prediction Algorithm': model_name,\n",
    "                'Accuracy': accuracy\n",
    "            })\n",
    "\n",
    "results_df = pd.DataFrame(result_rows)\n",
    "results_df = results_df.sort_values('Accuracy', ascending=False)\n",
    "\n",
    "print(\"Top 10 performing combinations:\")\n",
    "display(results_df.head(10))\n",
    "\n",
    "pivot_results = results_df.pivot(index='Imputation Algorithm', \n",
    "                                columns='Prediction Algorithm', \n",
    "                                values='Accuracy')\n",
    "\n",
    "print(\"\\nComparison across all methods:\")\n",
    "display(pivot_results)\n",
    "\n",
    "plt.figure(figsize=(12, 8))\n",
    "sns.heatmap(pivot_results, annot=True, cmap='YlGnBu', fmt='.3f')\n",
    "plt.title('Accuracy by Imputation and Prediction Methods')\n",
    "plt.tight_layout()\n",
    "plt.show()"
   ]
  }
 ],
 "metadata": {
  "kernelspec": {
   "display_name": "Python 3",
   "language": "python",
   "name": "python3"
  },
  "language_info": {
   "codemirror_mode": {
    "name": "ipython",
    "version": 3
   },
   "file_extension": ".py",
   "mimetype": "text/x-python",
   "name": "python",
   "nbconvert_exporter": "python",
   "pygments_lexer": "ipython3",
   "version": "3.13.2"
  }
 },
 "nbformat": 4,
 "nbformat_minor": 5
}
